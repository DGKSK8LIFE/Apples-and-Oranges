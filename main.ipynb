{
 "metadata": {
  "language_info": {
   "codemirror_mode": {
    "name": "ipython",
    "version": 3
   },
   "file_extension": ".py",
   "mimetype": "text/x-python",
   "name": "python",
   "nbconvert_exporter": "python",
   "pygments_lexer": "ipython3",
   "version": 3
  },
  "orig_nbformat": 2
 },
 "nbformat": 4,
 "nbformat_minor": 2,
 "cells": [
  {
   "cell_type": "code",
   "execution_count": null,
   "metadata": {},
   "outputs": [
    {
     "output_type": "error",
     "ename": "Error",
     "evalue": "Jupyter cannot be started. Error attempting to locate jupyter: Data Science library notebook is not installed in interpreter Python 3.8.2 64-bit.",
     "traceback": [
      "Error: Jupyter cannot be started. Error attempting to locate jupyter: Data Science library notebook is not installed in interpreter Python 3.8.2 64-bit.",
      "at b.startServer (/home/tarekali/.vscode/extensions/ms-python.python-2020.9.111407/out/client/extension.js:56:315173)",
      "at b.createServer (/home/tarekali/.vscode/extensions/ms-python.python-2020.9.111407/out/client/extension.js:56:314615)",
      "at connect (/home/tarekali/.vscode/extensions/ms-python.python-2020.9.111407/out/client/extension.js:56:442228)",
      "at f.ensureConnectionAndNotebookImpl (/home/tarekali/.vscode/extensions/ms-python.python-2020.9.111407/out/client/extension.js:32:92482)",
      "at f.ensureConnectionAndNotebook (/home/tarekali/.vscode/extensions/ms-python.python-2020.9.111407/out/client/extension.js:32:90844)",
      "at f.clearResult (/home/tarekali/.vscode/extensions/ms-python.python-2020.9.111407/out/client/extension.js:32:86516)",
      "at f.reexecuteCell (/home/tarekali/.vscode/extensions/ms-python.python-2020.9.111407/out/client/extension.js:9:134188)",
      "at f.reexecuteCells (/home/tarekali/.vscode/extensions/ms-python.python-2020.9.111407/out/client/extension.js:9:130534)"
     ]
    }
   ],
   "source": [
    "print('bruh')"
   ]
  },
  {
   "cell_type": "code",
   "execution_count": null,
   "metadata": {},
   "outputs": [],
   "source": []
  }
 ]
}